{
 "cells": [
  {
   "cell_type": "markdown",
   "metadata": {},
   "source": [
    "### Visualizing data from this [FiveThirtyEight](https://fivethirtyeight.com/features/americas-favorite-star-wars-movies-and-least-favorite-characters/) story based on a survey about Star Wars. You can find the original data source on [Github](https://github.com/fivethirtyeight/data/tree/master/star-wars-survey)"
   ]
  },
  {
   "cell_type": "markdown",
   "metadata": {},
   "source": [
    "#### In this notebook, I clean up survey data, then explore trends in some of its responses, segmenting by several demographic factors."
   ]
  },
  {
   "cell_type": "markdown",
   "metadata": {},
   "source": [
    "Loading the dataset"
   ]
  },
  {
   "cell_type": "code",
   "execution_count": 420,
   "metadata": {},
   "outputs": [],
   "source": [
    "import pandas as pd\n",
    "star_wars = pd.read_csv('star_wars.csv')"
   ]
  },
  {
   "cell_type": "markdown",
   "metadata": {},
   "source": [
    "Understanding the column headers"
   ]
  },
  {
   "cell_type": "code",
   "execution_count": 421,
   "metadata": {},
   "outputs": [
    {
     "data": {
      "text/plain": [
       "Index(['RespondentID',\n",
       "       'Have you seen any of the 6 films in the Star Wars franchise?',\n",
       "       'Do you consider yourself to be a fan of the Star Wars film franchise?',\n",
       "       'Which of the following Star Wars films have you seen? Please select all that apply.',\n",
       "       'Unnamed: 4', 'Unnamed: 5', 'Unnamed: 6', 'Unnamed: 7', 'Unnamed: 8',\n",
       "       'Please rank the Star Wars films in order of preference with 1 being your favorite film in the franchise and 6 being your least favorite film.',\n",
       "       'Unnamed: 10', 'Unnamed: 11', 'Unnamed: 12', 'Unnamed: 13',\n",
       "       'Unnamed: 14',\n",
       "       'Please state whether you view the following characters favorably, unfavorably, or are unfamiliar with him/her.',\n",
       "       'Unnamed: 16', 'Unnamed: 17', 'Unnamed: 18', 'Unnamed: 19',\n",
       "       'Unnamed: 20', 'Unnamed: 21', 'Unnamed: 22', 'Unnamed: 23',\n",
       "       'Unnamed: 24', 'Unnamed: 25', 'Unnamed: 26', 'Unnamed: 27',\n",
       "       'Unnamed: 28', 'Which character shot first?',\n",
       "       'Are you familiar with the Expanded Universe?',\n",
       "       'Do you consider yourself to be a fan of the Expanded Universe?Œæ',\n",
       "       'Do you consider yourself to be a fan of the Star Trek franchise?',\n",
       "       'Gender', 'Age', 'Household Income', 'Education',\n",
       "       'Location (Census Region)'],\n",
       "      dtype='object')"
      ]
     },
     "execution_count": 421,
     "metadata": {},
     "output_type": "execute_result"
    }
   ],
   "source": [
    "star_wars.columns"
   ]
  },
  {
   "cell_type": "markdown",
   "metadata": {},
   "source": [
    "Checking the distribution of responses for one of the questions:"
   ]
  },
  {
   "cell_type": "code",
   "execution_count": 422,
   "metadata": {},
   "outputs": [
    {
     "data": {
      "text/plain": [
       "array(['Response', 'Yes', 'No'], dtype=object)"
      ]
     },
     "execution_count": 422,
     "metadata": {},
     "output_type": "execute_result"
    }
   ],
   "source": [
    "star_wars['Have you seen any of the 6 films in the Star Wars franchise?'].unique()"
   ]
  },
  {
   "cell_type": "code",
   "execution_count": 423,
   "metadata": {},
   "outputs": [
    {
     "data": {
      "text/plain": [
       "Yes         936\n",
       "No          250\n",
       "Response      1\n",
       "Name: Have you seen any of the 6 films in the Star Wars franchise?, dtype: int64"
      ]
     },
     "execution_count": 423,
     "metadata": {},
     "output_type": "execute_result"
    }
   ],
   "source": [
    "star_wars['Have you seen any of the 6 films in the Star Wars franchise?'].value_counts()"
   ]
  },
  {
   "cell_type": "markdown",
   "metadata": {},
   "source": [
    "Showing 1186 data rows and 1 header row:"
   ]
  },
  {
   "cell_type": "code",
   "execution_count": 424,
   "metadata": {},
   "outputs": [
    {
     "data": {
      "text/plain": [
       "(1187, 38)"
      ]
     },
     "execution_count": 424,
     "metadata": {},
     "output_type": "execute_result"
    }
   ],
   "source": [
    "star_wars.shape"
   ]
  },
  {
   "cell_type": "markdown",
   "metadata": {},
   "source": [
    "Filtering dataframe to show those who said they'd seen a star wars movie:"
   ]
  },
  {
   "cell_type": "code",
   "execution_count": 425,
   "metadata": {},
   "outputs": [],
   "source": [
    "seen_star_wars = star_wars[star_wars['Have you seen any of the 6 films in the Star Wars franchise?'] == 'Yes']"
   ]
  },
  {
   "cell_type": "code",
   "execution_count": 426,
   "metadata": {},
   "outputs": [
    {
     "data": {
      "text/plain": [
       "(936, 38)"
      ]
     },
     "execution_count": 426,
     "metadata": {},
     "output_type": "execute_result"
    }
   ],
   "source": [
    "seen_star_wars.shape"
   ]
  },
  {
   "cell_type": "markdown",
   "metadata": {},
   "source": [
    "Confirming that 835 respondents indicated which movies they'd seen. 835 is the number that FiveThirtyEight referenced in their story about this survey."
   ]
  },
  {
   "cell_type": "code",
   "execution_count": 427,
   "metadata": {},
   "outputs": [],
   "source": [
    "which_star_wars_seen = seen_star_wars.iloc[:,3:9]\n",
    "which_star_wars_seen = which_star_wars_seen.dropna(axis = 0, how = 'all')"
   ]
  },
  {
   "cell_type": "code",
   "execution_count": 428,
   "metadata": {},
   "outputs": [
    {
     "data": {
      "text/plain": [
       "(835, 6)"
      ]
     },
     "execution_count": 428,
     "metadata": {},
     "output_type": "execute_result"
    }
   ],
   "source": [
    "which_star_wars_seen.shape"
   ]
  },
  {
   "cell_type": "markdown",
   "metadata": {},
   "source": [
    "Removing rows with null RespondentID values:"
   ]
  },
  {
   "cell_type": "code",
   "execution_count": 429,
   "metadata": {},
   "outputs": [],
   "source": [
    "star_wars = star_wars[pd.notnull(star_wars['RespondentID'])]"
   ]
  },
  {
   "cell_type": "markdown",
   "metadata": {},
   "source": [
    "Converting \"yes\" and \"no\" values to True/False since it's easier to filter with Booleans than with string comparisons:"
   ]
  },
  {
   "cell_type": "code",
   "execution_count": 430,
   "metadata": {},
   "outputs": [],
   "source": [
    "mapper = {\n",
    "    'Yes': 'True',\n",
    "    'No': 'False'\n",
    "}\n",
    "\n",
    "star_wars['Have you seen any of the 6 films in the Star Wars franchise?'] = star_wars['Have you seen any of the 6 films in the Star Wars franchise?'].map(mapper)"
   ]
  },
  {
   "cell_type": "code",
   "execution_count": 431,
   "metadata": {},
   "outputs": [],
   "source": [
    "star_wars['Do you consider yourself to be a fan of the Star Wars film franchise?'] = star_wars['Do you consider yourself to be a fan of the Star Wars film franchise?'].map(mapper)"
   ]
  },
  {
   "cell_type": "markdown",
   "metadata": {},
   "source": [
    "Changing values in columns that indicate which movies respondents have seen to be boolean values:"
   ]
  },
  {
   "cell_type": "code",
   "execution_count": 432,
   "metadata": {},
   "outputs": [],
   "source": [
    "import numpy as np\n",
    "\n",
    "movie_mapping = {\n",
    "    \"Star Wars: Episode I  The Phantom Menace\": True,\n",
    "    np.nan: False,\n",
    "    \"Star Wars: Episode II  Attack of the Clones\": True,\n",
    "    \"Star Wars: Episode III  Revenge of the Sith\": True,\n",
    "    \"Star Wars: Episode IV  A New Hope\": True,\n",
    "    \"Star Wars: Episode V The Empire Strikes Back\": True,\n",
    "    \"Star Wars: Episode VI Return of the Jedi\": True\n",
    "}\n",
    "\n",
    "for col in star_wars.columns[3:9]:\n",
    "    star_wars[col] = star_wars[col].map(movie_mapping)"
   ]
  },
  {
   "cell_type": "markdown",
   "metadata": {},
   "source": [
    "Updating column names to more accurately reflect values in columns (whether respondents have seen each episode):"
   ]
  },
  {
   "cell_type": "code",
   "execution_count": 433,
   "metadata": {},
   "outputs": [],
   "source": [
    "star_wars = star_wars.rename(columns = {star_wars.columns[3]: 'seen_1',\n",
    "                                       star_wars.columns[4]: 'seen_2',\n",
    "                                       star_wars.columns[5]: 'seen_3',\n",
    "                                       star_wars.columns[6]: 'seen_4',\n",
    "                                       star_wars.columns[7]: 'seen_5',\n",
    "                                       star_wars.columns[8]: 'seen_6'})"
   ]
  },
  {
   "cell_type": "markdown",
   "metadata": {},
   "source": [
    "Changing columns index 9 to 15 to float type for easier analysis, changing column names to more clearly reflect the data they contain:"
   ]
  },
  {
   "cell_type": "code",
   "execution_count": 434,
   "metadata": {},
   "outputs": [],
   "source": [
    "star_wars[star_wars.columns[9:15]] = star_wars[star_wars.columns[9:15]].astype(float)\n",
    "star_wars = star_wars.rename(columns={\n",
    "    star_wars.columns[9] : 'ranking_1',\n",
    "    star_wars.columns[10] : 'ranking_2',\n",
    "    star_wars.columns[11] : 'ranking_3',\n",
    "    star_wars.columns[12] : 'ranking_4',\n",
    "    star_wars.columns[13] : 'ranking_5',\n",
    "    star_wars.columns[14] : 'ranking_6'\n",
    "})"
   ]
  },
  {
   "cell_type": "markdown",
   "metadata": {},
   "source": [
    "Now that we've got numeric data and clear column headers, we can easily find out the mean ranking of each movie:"
   ]
  },
  {
   "cell_type": "code",
   "execution_count": 435,
   "metadata": {},
   "outputs": [
    {
     "data": {
      "text/plain": [
       "ranking_5    2.513158\n",
       "ranking_6    3.047847\n",
       "ranking_4    3.272727\n",
       "ranking_1    3.732934\n",
       "ranking_2    4.087321\n",
       "ranking_3    4.341317\n",
       "dtype: float64"
      ]
     },
     "execution_count": 435,
     "metadata": {},
     "output_type": "execute_result"
    }
   ],
   "source": [
    "mean_rankings = star_wars[star_wars.columns[9:15]].mean().sort_values()\n",
    "mean_rankings"
   ]
  },
  {
   "cell_type": "markdown",
   "metadata": {},
   "source": [
    "Looks like Episode V: The Empire Strikes Back is the highest-ranked movie in the survey"
   ]
  },
  {
   "cell_type": "markdown",
   "metadata": {},
   "source": [
    "Next, we'll build a bar chart showing mean rankings of Star Wars movies in the survey. Ranking_5 (Episode 5), has the lowest mean ranking, which means it's the *best* one:"
   ]
  },
  {
   "cell_type": "code",
   "execution_count": 436,
   "metadata": {},
   "outputs": [
    {
     "data": {
      "image/png": "[encoded data removed]",
      "text/plain": [
       "<Figure size 432x288 with 1 Axes>"
      ]
     },
     "metadata": {},
     "output_type": "display_data"
    }
   ],
   "source": [
    "import matplotlib.pyplot as plt\n",
    "%matplotlib inline\n",
    "fig, ax = plt.subplots()\n",
    "left = np.arange(len(mean_rankings))\n",
    "height = mean_rankings\n",
    "ax.bar(left, height, color = (200/255, 82/255, 65/255))\n",
    "ax.set_title('Mean Rankings of Star Wars Movies in Surveys')\n",
    "xlabels = list(mean_rankings.index)\n",
    "ax.set_xticklabels(xlabels, rotation=45)\n",
    "tick_positions = np.arange(0,6)\n",
    "ax.set_xticks(tick_positions)\n",
    "import seaborn as sns\n",
    "sns.despine(left=True, bottom=True)\n",
    "sns.set_style(\"dark\")\n",
    "ax.grid(False)"
   ]
  },
  {
   "cell_type": "markdown",
   "metadata": {},
   "source": [
    "I would guess Episodes IV - VI (older ones) are ranked higher than I - III (the newer ones) because that's how I would rank them. Survey results support this assessment. \n"
   ]
  },
  {
   "cell_type": "markdown",
   "metadata": {},
   "source": [
    "Next, I'll find out how many people saw each movie, according to the survey, and plot those amounts in a bar chart. Recall that 'seen_1' corresponds to Episode I and 'seen_6' corresponds to Episode VI:"
   ]
  },
  {
   "cell_type": "code",
   "execution_count": 437,
   "metadata": {},
   "outputs": [],
   "source": [
    "sum_seen = star_wars[star_wars.columns[3:9]].sum()"
   ]
  },
  {
   "cell_type": "code",
   "execution_count": 438,
   "metadata": {},
   "outputs": [
    {
     "data": {
      "text/plain": [
       "Text(0.5, 1.0, 'People Who Saw Each Star Wars Episode')"
      ]
     },
     "execution_count": 438,
     "metadata": {},
     "output_type": "execute_result"
    },
    {
     "data": {
      "image/png": "[encoded data removed]",
      "text/plain": [
       "<Figure size 432x288 with 1 Axes>"
      ]
     },
     "metadata": {},
     "output_type": "display_data"
    }
   ],
   "source": [
    "fig, ax = plt.subplots()\n",
    "ax.bar(range(0,6), sum_seen, color = (200/255, 82/255, 65/255))\n",
    "xlabels = list(sum_seen.index)\n",
    "ax.set_xticklabels(xlabels,rotation=45)\n",
    "ax.set_xticks(range(0,6))\n",
    "ax.set_title('People Who Saw Each Star Wars Episode')"
   ]
  },
  {
   "cell_type": "markdown",
   "metadata": {},
   "source": [
    "Below, I analyze how many people in the survey saw each movie, separated by gender:"
   ]
  },
  {
   "cell_type": "code",
   "execution_count": 439,
   "metadata": {},
   "outputs": [],
   "source": [
    "star_wars_males = star_wars[star_wars['Gender'] == 'Male']\n",
    "sum_seen_males = star_wars_males[star_wars_males.columns[3:9]].sum()\n",
    "star_wars_females = star_wars[star_wars['Gender'] == 'Female']\n",
    "sum_seen_females = star_wars_females[star_wars_females.columns[3:9]].sum()"
   ]
  },
  {
   "cell_type": "code",
   "execution_count": 440,
   "metadata": {},
   "outputs": [
    {
     "data": {
      "text/plain": [
       "<matplotlib.legend.Legend at 0x2d8df6c7908>"
      ]
     },
     "execution_count": 440,
     "metadata": {},
     "output_type": "execute_result"
    },
    {
     "data": {
      "image/png": "[encoded data removed]",
      "text/plain": [
       "<Figure size 432x288 with 1 Axes>"
      ]
     },
     "metadata": {},
     "output_type": "display_data"
    }
   ],
   "source": [
    "fig, ax = plt.subplots()\n",
    "width = 0.35\n",
    "bar_positions = np.arange(6)\n",
    "ax.bar(bar_positions, sum_seen_males, width = 0.35, color = (200/255, 82/255, 65/255))\n",
    "ax.bar(bar_positions + width, sum_seen_females, width = 0.35, color = (95/255,158/255,209/255))\n",
    "xlabels = list(sum_seen_males.index)\n",
    "ax.set_xticklabels(xlabels,rotation=45)\n",
    "ax.set_xticks(np.arange(6))\n",
    "ax.set_title('People Who Saw Each Star Wars Episode')\n",
    "ax.legend(['Males', 'Females'], bbox_to_anchor=(1.05, 0.5))\n"
   ]
  },
  {
   "cell_type": "markdown",
   "metadata": {},
   "source": [
    "Now re-doing the analysis of mean rankings of each movie to see any difference between genders' rankings:"
   ]
  },
  {
   "cell_type": "code",
   "execution_count": 441,
   "metadata": {},
   "outputs": [],
   "source": [
    "mean_rankings_males = star_wars_males[star_wars_males.columns[9:15]].mean().sort_values()\n",
    "mean_rankings_females = star_wars_females[star_wars_females.columns[9:15]].mean().sort_values()\n"
   ]
  },
  {
   "cell_type": "code",
   "execution_count": 442,
   "metadata": {},
   "outputs": [
    {
     "data": {
      "text/plain": [
       "<matplotlib.legend.Legend at 0x2d8df13aa58>"
      ]
     },
     "execution_count": 442,
     "metadata": {},
     "output_type": "execute_result"
    },
    {
     "data": {
      "image/png": "[encoded data removed]",
      "text/plain": [
       "<Figure size 432x288 with 1 Axes>"
      ]
     },
     "metadata": {},
     "output_type": "display_data"
    }
   ],
   "source": [
    "fig, ax = plt.subplots()\n",
    "width = 0.35\n",
    "bar_positions = np.arange(6)\n",
    "ax.bar(bar_positions, mean_rankings_males, width = 0.35, color = (200/255, 82/255, 65/255))\n",
    "ax.bar(bar_positions + width, mean_rankings_females, width = 0.35, color = (95/255,158/255,209/255))\n",
    "xlabels = list(mean_rankings_females.index)\n",
    "ax.set_xticklabels(xlabels,rotation=45)\n",
    "ax.set_xticks(np.arange(6))\n",
    "ax.set_title('Mean Ranking of Star Wars Episodes')\n",
    "ax.legend(['Males', 'Females'], bbox_to_anchor=(1.05, 0.5))\n"
   ]
  },
  {
   "cell_type": "markdown",
   "metadata": {},
   "source": [
    "It makes sense that the highest number of males saw Episode V and they rated it the best one. It's curious that females more highly rated Episodes IV and II than males, despite not having reported seeing it more than males. "
   ]
  },
  {
   "cell_type": "markdown",
   "metadata": {},
   "source": [
    "In the next chart, I show the correlation between education level and whether survey respondents had seen at least one Star Wars Episode."
   ]
  },
  {
   "cell_type": "code",
   "execution_count": 443,
   "metadata": {},
   "outputs": [],
   "source": [
    "index = (['Some college or Associate degree', 'Bachelor degree','Graduate degree', 'High school degree',\n",
    "          'Less than high school degree'])\n",
    "seen_by_ed_level = []\n",
    "\n",
    "for i in index:\n",
    "    \n",
    "    segment = star_wars[star_wars['Education'] == i]\n",
    "    segment_fan = segment[segment['Have you seen any of the 6 films in the Star Wars franchise?'] == 'True']\n",
    "    segment_fan_per = (len(segment_fan) / len(segment))*100\n",
    "    seen_by_ed_level.append(segment_fan_per)\n",
    "    \n",
    "seen_by_ed_level = pd.Series(seen_by_ed_level, index=index).sort_values()\n"
   ]
  },
  {
   "cell_type": "code",
   "execution_count": 444,
   "metadata": {},
   "outputs": [
    {
     "data": {
      "text/plain": [
       "Text(0.5, 1.0, 'Share Who Saw At Least One Star Wars Episode')"
      ]
     },
     "execution_count": 444,
     "metadata": {},
     "output_type": "execute_result"
    },
    {
     "data": {
      "image/png": "[encoded data removed]",
      "text/plain": [
       "<Figure size 432x288 with 1 Axes>"
      ]
     },
     "metadata": {},
     "output_type": "display_data"
    }
   ],
   "source": [
    "fig, ax = plt.subplots()\n",
    "width = 0.6\n",
    "bar_positions = np.arange(5)\n",
    "ax.bar(bar_positions, seen_per_by_ed_level, width = width, color = (200/255, 82/255, 65/255))\n",
    "ax.set_xticklabels(seen_per_by_ed_level.index,rotation=45, ha='right')\n",
    "ax.set_xticks(np.arange(5))\n",
    "ax.set_ylabel('%', rotation=0, labelpad=20)\n",
    "ax.set_title('Share Who Saw At Least One Star Wars Episode')\n",
    "\n"
   ]
  },
  {
   "cell_type": "markdown",
   "metadata": {},
   "source": [
    "Most strikingly, fewer than 50% of respondents without high school degrees reported seeing even one Star Wars Episode! Next, I'll make a chart showing side-by-side bars to observe the relationship between seeing the movies and being a fan, and how education level might affect that relationship. First, let's see what share of respondents overall are fans:"
   ]
  },
  {
   "cell_type": "code",
   "execution_count": 445,
   "metadata": {},
   "outputs": [
    {
     "data": {
      "text/plain": [
       "66.0"
      ]
     },
     "execution_count": 445,
     "metadata": {},
     "output_type": "execute_result"
    }
   ],
   "source": [
    "fan_or_not = star_wars[star_wars.columns[2]].value_counts()\n",
    "overall_star_wars_fan_percentage = (fan_or_not[0] / (fan_or_not[0] + fan_or_not[1]))*100\n",
    "overall_star_wars_fan_percentage = overall_star_wars_fan_percentage.round()\n",
    "overall_star_wars_fan_percentage"
   ]
  },
  {
   "cell_type": "markdown",
   "metadata": {},
   "source": [
    "Next, I'll build the series containing the percentage who are fans broken down by education level:"
   ]
  },
  {
   "cell_type": "code",
   "execution_count": 446,
   "metadata": {},
   "outputs": [],
   "source": [
    "index = (['Some college or Associate degree', 'Bachelor degree','Graduate degree', 'High school degree',\n",
    "          'Less than high school degree'])\n",
    "fan_by_ed_level = []\n",
    "\n",
    "for i in index:\n",
    "    \n",
    "    segment = star_wars[star_wars['Education'] == i]\n",
    "    segment_fan = segment[segment['Do you consider yourself to be a fan of the Star Wars film franchise?'] == 'True']\n",
    "    segment_fan_per = (len(segment_fan) / len(segment))*100\n",
    "    fan_by_ed_level.append(segment_fan_per)\n",
    "    \n",
    "fan_by_ed_level = pd.Series(fan_by_ed_level, index=index).sort_values()\n"
   ]
  },
  {
   "cell_type": "code",
   "execution_count": 447,
   "metadata": {},
   "outputs": [
    {
     "data": {
      "text/plain": [
       "<matplotlib.legend.Legend at 0x2d8ded71630>"
      ]
     },
     "execution_count": 447,
     "metadata": {},
     "output_type": "execute_result"
    },
    {
     "data": {
      "image/png": "[encoded data removed]",
      "text/plain": [
       "<Figure size 648x648 with 1 Axes>"
      ]
     },
     "metadata": {},
     "output_type": "display_data"
    }
   ],
   "source": [
    "fig, ax = plt.subplots(figsize=(9,9))\n",
    "width = 0.35\n",
    "bar_positions = np.arange(5)\n",
    "ax.bar(bar_positions + width, seen_per_by_ed_level, width = 0.35, color = (200/255, 82/255, 65/255))\n",
    "ax.bar(bar_positions, fan_by_ed_level, width = 0.35, color = (0/255, 107/255, 164/255))\n",
    "ax.set_xticklabels(fan_by_ed_level.index,rotation=45, ha='right')\n",
    "ax.set_xticks(np.arange(5)+0.17)\n",
    "ax.set_ylabel('%', rotation=0)\n",
    "ax.set_title('Star Wars Fans by Education Level')\n",
    "ax.legend(['Seen at least one Episode', 'Identifies as a Star Wars fan'], bbox_to_anchor = [1.01, 0.5])"
   ]
  },
  {
   "cell_type": "markdown",
   "metadata": {},
   "source": [
    "Next, let's learn whether our survey respondents are more likely to be fans of Star Trek or Star Wars:"
   ]
  },
  {
   "cell_type": "code",
   "execution_count": 448,
   "metadata": {},
   "outputs": [
    {
     "data": {
      "text/plain": [
       "60.0"
      ]
     },
     "execution_count": 448,
     "metadata": {},
     "output_type": "execute_result"
    }
   ],
   "source": [
    "fan_or_not = star_wars[star_wars.columns[32]].value_counts()\n",
    "overall_star_trek_fan_percentage = (fan_or_not[0] / (fan_or_not[0] + fan_or_not[1]))*100\n",
    "overall_star_trek_fan_percentage = overall_star_trek_fan_percentage.round()\n",
    "overall_star_trek_fan_percentage"
   ]
  },
  {
   "cell_type": "markdown",
   "metadata": {},
   "source": [
    "Earlier, we found 66% of respondents self-identified as Star Wars fans, so respondents are more likely to be Star Wars fans. That's logical because the respondents opted into taking a Star Wars survey, not a Star Trek one. "
   ]
  },
  {
   "cell_type": "markdown",
   "metadata": {},
   "source": [
    "Next, let's explore how fanhood breaks down across age groups:"
   ]
  },
  {
   "cell_type": "code",
   "execution_count": 449,
   "metadata": {},
   "outputs": [
    {
     "data": {
      "image/png": "[encoded data removed]",
      "text/plain": [
       "<Figure size 432x288 with 1 Axes>"
      ]
     },
     "metadata": {},
     "output_type": "display_data"
    }
   ],
   "source": [
    "index = ['18-29','30-44','45-60', '> 60']\n",
    "sw_fan_by_age = []\n",
    "st_fan_by_age = []\n",
    "\n",
    "for i in index:\n",
    "    \n",
    "    segment = star_wars[star_wars['Age'] == i]\n",
    "    segment_fan = segment[segment['Do you consider yourself to be a fan of the Star Wars film franchise?'] == 'True']\n",
    "    segment_fan_per = (len(segment_fan) / len(segment))*100\n",
    "    sw_fan_by_age.append(segment_fan_per)\n",
    "\n",
    "for i in index:\n",
    "    \n",
    "    segment = star_wars[star_wars['Age'] == i]\n",
    "    segment_fan = segment[segment['Do you consider yourself to be a fan of the Star Trek franchise?'] == 'Yes']\n",
    "    segment_fan_per = (len(segment_fan) / len(segment))*100\n",
    "    st_fan_by_age.append(segment_fan_per)\n",
    "    \n",
    "sw_fan_by_age = pd.Series(sw_fan_by_age, index=index).sort_index()\n",
    "st_fan_by_age = pd.Series(st_fan_by_age, index=index).sort_index()\n",
    "\n",
    "fig, ax = plt.subplots()\n",
    "ax.bar(x = [0,1,2,3], height = sw_fan_by_age, width = 0.3, color = (95/255,158/255,209/255))\n",
    "ax.bar(x = [n+0.3 for n in range(4)], height = st_fan_by_age, width = 0.3, color = (255/255,188/255,121/255))\n",
    "ax.set_xticklabels(fan_by_age.index, rotation=45, ha='right')\n",
    "ax.set_xticks([n+0.15 for n in range(4)])\n",
    "ax.legend(['Star Wars Fans', 'Star Trek Fans'], bbox_to_anchor = [1.0,0.6])\n",
    "ax.set_title('% Who Are Fans by Age Group')\n",
    "import seaborn as sns\n",
    "sns.despine(bottom=True, left=True)\n",
    "ax.grid(False)"
   ]
  },
  {
   "cell_type": "markdown",
   "metadata": {},
   "source": [
    "There are more older Star Trek fans than there are younger ones. The opposite is true for Star Wars. Overall, more respondents favored Star Wars over Star Trek.\n",
    "\n",
    "Next, I'll visualize which respondents said they were fans of Star Trek and Star Wars, segmented by education level:"
   ]
  },
  {
   "cell_type": "code",
   "execution_count": 450,
   "metadata": {},
   "outputs": [
    {
     "data": {
      "image/png": "[encoded data removed]",
      "text/plain": [
       "<Figure size 432x288 with 1 Axes>"
      ]
     },
     "metadata": {},
     "output_type": "display_data"
    }
   ],
   "source": [
    "index = (['Some college or Associate degree', 'Bachelor degree','Graduate degree', 'High school degree',\n",
    "          'Less than high school degree'])\n",
    "st_fan_by_ed_level = []\n",
    "\n",
    "for i in index:\n",
    "    \n",
    "    segment = star_wars[star_wars['Education'] == i]\n",
    "    segment_fan = segment[segment['Do you consider yourself to be a fan of the Star Trek franchise?'] == 'Yes']\n",
    "    segment_fan_per = (len(segment_fan) / len(segment))*100\n",
    "    st_fan_by_ed_level.append(segment_fan_per)\n",
    "    \n",
    "st_fan_by_ed_level = pd.Series(st_fan_by_ed_level, index=index).sort_values()\n",
    "\n",
    "fig, ax = plt.subplots()\n",
    "ax.bar(x = [0,1,2,3,4], height = fan_by_ed_level, width = 0.3, color = (95/255,158/255,209/255))\n",
    "ax.bar(x = [n+0.3 for n in range(5)], height = st_fan_by_ed_level, width = 0.3, color = (255/255,188/255,121/255))\n",
    "ax.set_xticklabels(fan_by_ed_level.index, rotation=45, ha='right')\n",
    "ax.set_xticks([n+0.15 for n in range(5)])\n",
    "ax.legend(['Star Wars Fans', 'Star Trek Fans'], bbox_to_anchor = [1.0,0.6])\n",
    "ax.set_title('% Who Are Fans by Age Group')\n",
    "import seaborn as sns\n",
    "sns.despine(bottom=True, left=True)\n",
    "ax.grid(False)"
   ]
  },
  {
   "cell_type": "markdown",
   "metadata": {},
   "source": [
    "Across the education level spectrum, Star Wars is more popular than Star Trek in the survey responses. The gap narrows for respondents with at least some college education. Perhaps, there's more chance of exposure to Star Trek in college.  "
   ]
  }
 ],
 "metadata": {
  "kernelspec": {
   "display_name": "Python 3",
   "language": "python",
   "name": "python3"
  },
  "language_info": {
   "codemirror_mode": {
    "name": "ipython",
    "version": 3
   },
   "file_extension": ".py",
   "mimetype": "text/x-python",
   "name": "python",
   "nbconvert_exporter": "python",
   "pygments_lexer": "ipython3",
   "version": "3.6.4"
  }
 },
 "nbformat": 4,
 "nbformat_minor": 2
}
